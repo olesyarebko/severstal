{
 "cells": [
  {
   "cell_type": "code",
   "execution_count": 2,
   "metadata": {},
   "outputs": [
    {
     "name": "stdout",
     "output_type": "stream",
     "text": [
      "<class 'pandas.core.frame.DataFrame'>\n",
      "RangeIndex: 237 entries, 0 to 236\n",
      "Data columns (total 3 columns):\n",
      " #   Column                      Non-Null Count  Dtype \n",
      "---  ------                      --------------  ----- \n",
      " 0   Количество больничных дней  237 non-null    int64 \n",
      " 1   Возраст                     237 non-null    int64 \n",
      " 2   Пол                         237 non-null    object\n",
      "dtypes: int64(2), object(1)\n",
      "memory usage: 5.7+ KB\n"
     ]
    }
   ],
   "source": [
    "import pandas as pd\n",
    "import matplotlib.pyplot as plt \n",
    "data = pd.read_csv('data.csv', engine='python')\n",
    "data.info()"
   ]
  },
  {
   "cell_type": "code",
   "execution_count": 3,
   "metadata": {},
   "outputs": [
    {
     "name": "stdout",
     "output_type": "stream",
     "text": [
      "Процент женщин, воспользовавшихся больничным более 2-х раз: 44.4%\n",
      "Процент мужчин, воспользовавшихся больничным более 2-х раз: 55.6%\n"
     ]
    }
   ],
   "source": [
    "def percent_sick_leave(gender):\n",
    "    data_sick = data[data['Количество больничных дней'] > 2]['Количество больничных дней'].count()\n",
    "    data_gender_sick = data[(data['Пол'] == gender) & (data['Количество больничных дней'] > 2)]['Пол'].count()\n",
    "    division = data_gender_sick / data_sick\n",
    "    return division\n",
    "\n",
    "print('Процент женщин, воспользовавшихся больничным более 2-х раз: {:.1%}'.format(percent_sick_leave('Ж')))\n",
    "print('Процент мужчин, воспользовавшихся больничным более 2-х раз: {:.1%}'.format(percent_sick_leave('М')))"
   ]
  },
  {
   "cell_type": "code",
   "execution_count": 6,
   "metadata": {},
   "outputs": [
    {
     "name": "stdout",
     "output_type": "stream",
     "text": [
      "Процент работников младше 35 лет, воспользовавшихся больничным более 2-х раз: 20.5%\n",
      "Процент работников старше 35 лет, воспользовавшихся больничным более 2-х раз: 79.5%\n"
     ]
    }
   ],
   "source": [
    "data_sick = data[data['Количество больничных дней'] > 2]['Количество больничных дней'].count()\n",
    "data_young_sick = data[(data['Возраст'] < 35) & (data['Количество больничных дней'] > 2)]['Возраст'].count()\n",
    "division_1 = data_young_sick / data_sick\n",
    "print('Процент работников младше 35 лет, воспользовавшихся больничным более 2-х раз: {:.1%}'.format(division_1))\n",
    "\n",
    "data_elder_sick = data[(data['Возраст'] >= 35) & (data['Количество больничных дней'] > 2)]['Возраст'].count()\n",
    "division_2 = data_elder_sick / data_sick\n",
    "print('Процент работников старше 35 лет, воспользовавшихся больничным более 2-х раз: {:.1%}'.format(division_2))"
   ]
  },
  {
   "cell_type": "code",
   "execution_count": 7,
   "metadata": {},
   "outputs": [
    {
     "name": "stdout",
     "output_type": "stream",
     "text": [
      "                            Количество больничных дней   Возраст\n",
      "Количество больничных дней                    1.000000 -0.078775\n",
      "Возраст                                      -0.078775  1.000000\n"
     ]
    }
   ],
   "source": [
    "print(data.corr())"
   ]
  },
  {
   "cell_type": "code",
   "execution_count": 8,
   "metadata": {},
   "outputs": [
    {
     "data": {
      "text/plain": [
       "array([[<AxesSubplot:title={'center':'Количество больничных дней'}>,\n",
       "        <AxesSubplot:title={'center':'Возраст'}>]], dtype=object)"
      ]
     },
     "execution_count": 8,
     "metadata": {},
     "output_type": "execute_result"
    },
    {
     "data": {
      "image/png": "[encoded data removed]",
      "text/plain": [
       "<Figure size 432x288 with 2 Axes>"
      ]
     },
     "metadata": {
      "needs_background": "light"
     },
     "output_type": "display_data"
    },
    {
     "data": {
      "image/png": "[encoded data removed]",
      "text/plain": [
       "<Figure size 432x288 with 2 Axes>"
      ]
     },
     "metadata": {
      "needs_background": "light"
     },
     "output_type": "display_data"
    }
   ],
   "source": [
    "data_women = data[(data['Пол'] == 'Ж') & (data['Количество больничных дней'] > 2)]\n",
    "data_women.hist(bins=10)\n",
    "\n",
    "data_men = data[(data['Пол'] == 'М') & (data['Количество больничных дней'] > 2)]\n",
    "data_men.hist(bins=10)\n"
   ]
  }
 ],
 "metadata": {
  "kernelspec": {
   "display_name": "Python 3",
   "language": "python",
   "name": "python3"
  },
  "language_info": {
   "codemirror_mode": {
    "name": "ipython",
    "version": 3
   },
   "file_extension": ".py",
   "mimetype": "text/x-python",
   "name": "python",
   "nbconvert_exporter": "python",
   "pygments_lexer": "ipython3",
   "version": "3.8.5"
  }
 },
 "nbformat": 4,
 "nbformat_minor": 4
}
